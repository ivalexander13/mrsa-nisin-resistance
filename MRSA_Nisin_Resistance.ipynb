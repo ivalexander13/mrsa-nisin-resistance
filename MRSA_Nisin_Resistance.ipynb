{
  "nbformat": 4,
  "nbformat_minor": 0,
  "metadata": {
    "colab": {
      "name": "MRSA Nisin Resistance",
      "provenance": [],
      "collapsed_sections": [],
      "toc_visible": true,
      "include_colab_link": true
    },
    "kernelspec": {
      "name": "python3",
      "display_name": "Python 3"
    }
  },
  "cells": [
    {
      "cell_type": "markdown",
      "metadata": {
        "id": "view-in-github",
        "colab_type": "text"
      },
      "source": [
        "<a href=\"https://colab.research.google.com/github/ivalexander13/mrsa-nisin-resistance/blob/master/MRSA_Nisin_Resistance.ipynb\" target=\"_parent\"><img src=\"https://colab.research.google.com/assets/colab-badge.svg\" alt=\"Open In Colab\"/></a>"
      ]
    },
    {
      "cell_type": "markdown",
      "metadata": {
        "id": "tsGiUeEf3rEC",
        "colab_type": "text"
      },
      "source": [
        "# Setup"
      ]
    },
    {
      "cell_type": "markdown",
      "metadata": {
        "id": "LZiYpW80IzKP",
        "colab_type": "text"
      },
      "source": [
        "## Introduction\n",
        "\n",
        "**Paper:** Acquired Nisin Resistance in Staphylococcus aureus Involves Constitutive Activation of an Intrinsic Peptide Antibiotic Detoxification Module ([paper](https://www.ncbi.nlm.nih.gov/pmc/articles/PMC6291627), [data](https://www.ncbi.nlm.nih.gov/geo/query/acc.cgi?acc=GSE114706)).\n",
        "\n",
        "The goal of this project is to analyse RNASeq data in order to identify differentially expressed genes between wild type and Nisin-resistant strains of *Staphylococcus aureus*.\n",
        "\n",
        "## Background\n",
        "\n",
        "Nisin is a broad-spectrum antibiotic effective against many Gram Positive bacteria. It kills susceptible microbes by creating pores on bacterial membranes and preventing cell wall synthesis. \n",
        "\n",
        "In this study, Nisin resistance in *S. aureus* was triggered by mutating the *nsaS* gene, which codes for a set of proteins called NsaRS. NsaRS is a two-component regulatory system that detects the presence of nisin and subsequently triggers changes in transcription that will be reflected by our analyses of the transcriptome."
      ]
    },
    {
      "cell_type": "code",
      "metadata": {
        "id": "h0iuFCsX3sRp",
        "colab_type": "code",
        "colab": {}
      },
      "source": [
        "import numpy as np\n",
        "import matplotlib\n",
        "%matplotlib inline\n",
        "import matplotlib.pyplot as plt\n",
        "import scipy.stats as stats\n",
        "plt.style.use('fivethirtyeight')\n",
        "import pandas as pd\n",
        "import seaborn as sns\n",
        "import sklearn\n",
        "from sklearn import preprocessing\n",
        "from sklearn.preprocessing import StandardScaler\n",
        "from sklearn.decomposition import PCA\n",
        "from sklearn.preprocessing import scale\n",
        "from sklearn.manifold import TSNE\n",
        "from sklearn.cluster import KMeans\n",
        "from scipy.spatial.distance import cdist"
      ],
      "execution_count": 0,
      "outputs": []
    },
    {
      "cell_type": "markdown",
      "metadata": {
        "id": "JbnG7oabThoa",
        "colab_type": "text"
      },
      "source": [
        "## Data Cleanup\n",
        "There are five samples in total, with two (samples 1 and 2) being wild-type strains and three (samples 3, 4, and 5). Each sample has 4 columns: features, expression value, unique reads, and total reads. For our analyses, we will only use the last column."
      ]
    },
    {
      "cell_type": "code",
      "metadata": {
        "id": "u8ptKynn3wVt",
        "colab_type": "code",
        "colab": {}
      },
      "source": [
        "raw1 = pd.read_csv(\"https://raw.githubusercontent.com/ivalexander13/mrsa-nisin-resistance/master/samples_raw/GSM3147945_WT1_S7.txt\", delimiter = \"\\t\")\n",
        "raw2 = pd.read_csv(\"https://raw.githubusercontent.com/ivalexander13/mrsa-nisin-resistance/master/samples_raw/GSM3147946_WT3_S9.txt\", delimiter = \"\\t\")\n",
        "raw3 = pd.read_csv(\"https://raw.githubusercontent.com/ivalexander13/mrsa-nisin-resistance/master/samples_raw/GSM3147947_SM1_S4.txt\", delimiter = \"\\t\")\n",
        "raw4 = pd.read_csv(\"https://raw.githubusercontent.com/ivalexander13/mrsa-nisin-resistance/master/samples_raw/GSM3147948_SM2_S5.txt\", delimiter = \"\\t\")\n",
        "raw5 = pd.read_csv(\"https://raw.githubusercontent.com/ivalexander13/mrsa-nisin-resistance/master/samples_raw/GSM3147949_SM3_S6.txt\", delimiter = \"\\t\")\n",
        "\n",
        "\n",
        "# function for data preprocessing \n",
        "\n",
        "def preproc(*dfs):\n",
        "  list_df = []\n",
        "  for df in dfs:\n",
        "    df.drop(df.columns[[1, 2]], axis=1, inplace=True)\n",
        "    df = df.rename({df.columns[0]: \"feature\", df.columns[1]: \"reads_\" + str(len(list_df) + 1)}, axis='columns')\n",
        "    list_df.append(df)\n",
        "  return list_df\n",
        "\n",
        "raw1, raw2, raw3, raw4, raw5 = preproc(raw1, raw2, raw3, raw4, raw5)\n",
        "\n",
        "\n",
        "# combine the five samples into one dataframe\n",
        "\n",
        "raws = pd.merge(raw1, raw2,  on='feature')\n",
        "raws = pd.merge(raws, raw3, on='feature')\n",
        "raws = pd.merge(raws, raw4, on='feature')\n",
        "raws = pd.merge(raws, raw5, on='feature')\n"
      ],
      "execution_count": 0,
      "outputs": []
    },
    {
      "cell_type": "code",
      "metadata": {
        "id": "ZPIC8rRsnN4f",
        "colab_type": "code",
        "colab": {
          "base_uri": "https://localhost:8080/",
          "height": 431
        },
        "outputId": "09cbf89f-6fa6-49d2-8df0-c69538044b7f"
      },
      "source": [
        "\n",
        "raws"
      ],
      "execution_count": 31,
      "outputs": [
        {
          "output_type": "execute_result",
          "data": {
            "text/html": [
              "<div>\n",
              "<style scoped>\n",
              "    .dataframe tbody tr th:only-of-type {\n",
              "        vertical-align: middle;\n",
              "    }\n",
              "\n",
              "    .dataframe tbody tr th {\n",
              "        vertical-align: top;\n",
              "    }\n",
              "\n",
              "    .dataframe thead th {\n",
              "        text-align: right;\n",
              "    }\n",
              "</style>\n",
              "<table border=\"1\" class=\"dataframe\">\n",
              "  <thead>\n",
              "    <tr style=\"text-align: right;\">\n",
              "      <th></th>\n",
              "      <th>feature</th>\n",
              "      <th>reads_1</th>\n",
              "      <th>reads_2</th>\n",
              "      <th>reads_3</th>\n",
              "      <th>reads_4</th>\n",
              "      <th>reads_5</th>\n",
              "    </tr>\n",
              "  </thead>\n",
              "  <tbody>\n",
              "    <tr>\n",
              "      <th>0</th>\n",
              "      <td>SAOUHSC_01037</td>\n",
              "      <td>10</td>\n",
              "      <td>180</td>\n",
              "      <td>6</td>\n",
              "      <td>10</td>\n",
              "      <td>4</td>\n",
              "    </tr>\n",
              "    <tr>\n",
              "      <th>1</th>\n",
              "      <td>SAOUHSC_00303</td>\n",
              "      <td>4</td>\n",
              "      <td>3</td>\n",
              "      <td>1</td>\n",
              "      <td>1</td>\n",
              "      <td>0</td>\n",
              "    </tr>\n",
              "    <tr>\n",
              "      <th>2</th>\n",
              "      <td>SAOUHSC_00978</td>\n",
              "      <td>94</td>\n",
              "      <td>257</td>\n",
              "      <td>24</td>\n",
              "      <td>62</td>\n",
              "      <td>23</td>\n",
              "    </tr>\n",
              "    <tr>\n",
              "      <th>3</th>\n",
              "      <td>SAOUHSC_02313</td>\n",
              "      <td>3</td>\n",
              "      <td>6</td>\n",
              "      <td>1</td>\n",
              "      <td>1</td>\n",
              "      <td>1</td>\n",
              "    </tr>\n",
              "    <tr>\n",
              "      <th>4</th>\n",
              "      <td>SAOUHSC_02518</td>\n",
              "      <td>6</td>\n",
              "      <td>9</td>\n",
              "      <td>0</td>\n",
              "      <td>4</td>\n",
              "      <td>1</td>\n",
              "    </tr>\n",
              "    <tr>\n",
              "      <th>...</th>\n",
              "      <td>...</td>\n",
              "      <td>...</td>\n",
              "      <td>...</td>\n",
              "      <td>...</td>\n",
              "      <td>...</td>\n",
              "      <td>...</td>\n",
              "    </tr>\n",
              "    <tr>\n",
              "      <th>2867</th>\n",
              "      <td>SAOUHSC_02939</td>\n",
              "      <td>0</td>\n",
              "      <td>0</td>\n",
              "      <td>1</td>\n",
              "      <td>1</td>\n",
              "      <td>0</td>\n",
              "    </tr>\n",
              "    <tr>\n",
              "      <th>2868</th>\n",
              "      <td>SAOUHSC_02948</td>\n",
              "      <td>0</td>\n",
              "      <td>5</td>\n",
              "      <td>0</td>\n",
              "      <td>0</td>\n",
              "      <td>0</td>\n",
              "    </tr>\n",
              "    <tr>\n",
              "      <th>2869</th>\n",
              "      <td>SAOUHSC_02950</td>\n",
              "      <td>1</td>\n",
              "      <td>1</td>\n",
              "      <td>0</td>\n",
              "      <td>0</td>\n",
              "      <td>0</td>\n",
              "    </tr>\n",
              "    <tr>\n",
              "      <th>2870</th>\n",
              "      <td>SAOUHSC_A01436</td>\n",
              "      <td>0</td>\n",
              "      <td>0</td>\n",
              "      <td>0</td>\n",
              "      <td>1</td>\n",
              "      <td>0</td>\n",
              "    </tr>\n",
              "    <tr>\n",
              "      <th>2871</th>\n",
              "      <td>SAOUHSC_A02169</td>\n",
              "      <td>0</td>\n",
              "      <td>0</td>\n",
              "      <td>1</td>\n",
              "      <td>0</td>\n",
              "      <td>0</td>\n",
              "    </tr>\n",
              "  </tbody>\n",
              "</table>\n",
              "<p>2872 rows × 6 columns</p>\n",
              "</div>"
            ],
            "text/plain": [
              "             feature  reads_1  reads_2  reads_3  reads_4  reads_5\n",
              "0      SAOUHSC_01037       10      180        6       10        4\n",
              "1      SAOUHSC_00303        4        3        1        1        0\n",
              "2      SAOUHSC_00978       94      257       24       62       23\n",
              "3      SAOUHSC_02313        3        6        1        1        1\n",
              "4      SAOUHSC_02518        6        9        0        4        1\n",
              "...              ...      ...      ...      ...      ...      ...\n",
              "2867   SAOUHSC_02939        0        0        1        1        0\n",
              "2868   SAOUHSC_02948        0        5        0        0        0\n",
              "2869   SAOUHSC_02950        1        1        0        0        0\n",
              "2870  SAOUHSC_A01436        0        0        0        1        0\n",
              "2871  SAOUHSC_A02169        0        0        1        0        0\n",
              "\n",
              "[2872 rows x 6 columns]"
            ]
          },
          "metadata": {
            "tags": []
          },
          "execution_count": 31
        }
      ]
    },
    {
      "cell_type": "markdown",
      "metadata": {
        "id": "V_YypSxbb65I",
        "colab_type": "text"
      },
      "source": [
        "## Exploratory Data Analysis\n",
        "A histogram of the raw values show a significant majority of features not being expressed. A histogram of the log of the raw values tell a different story."
      ]
    },
    {
      "cell_type": "code",
      "metadata": {
        "id": "G-W-Z_TRVapx",
        "colab_type": "code",
        "colab": {
          "base_uri": "https://localhost:8080/",
          "height": 282
        },
        "outputId": "0733c4b7-4987-4798-da04-83cdfda0191d"
      },
      "source": [
        "histrange = [0, 10000]\n",
        "raws.iloc[:, 1].hist(bins=100, range=histrange)\n",
        "raws.iloc[:, 2].hist(bins=100, range=histrange)\n",
        "raws.iloc[:, 3].hist(bins=100, range=histrange)\n",
        "raws.iloc[:, 4].hist(bins=100, range=histrange)\n",
        "raws.iloc[:, 5].hist(bins=100, range=histrange)\n",
        "plt.show()"
      ],
      "execution_count": 104,
      "outputs": [
        {
          "output_type": "display_data",
          "data": {
            "image/png": "[encoded data removed]",
            "text/plain": [
              "<Figure size 432x288 with 1 Axes>"
            ]
          },
          "metadata": {
            "tags": []
          }
        }
      ]
    },
    {
      "cell_type": "code",
      "metadata": {
        "id": "AlHshsLr8wNs",
        "colab_type": "code",
        "colab": {
          "base_uri": "https://localhost:8080/",
          "height": 282
        },
        "outputId": "c25ec193-eb3f-45a3-a6da-0296ac8ce0e5"
      },
      "source": [
        "np.log(raws.iloc[:, 1] + 1).hist(bins=100)\n",
        "np.log(raws.iloc[:, 2] + 1).hist(bins=100)\n",
        "np.log(raws.iloc[:, 3] + 1).hist(bins=100)\n",
        "np.log(raws.iloc[:, 4] + 1).hist(bins=100)\n",
        "np.log(raws.iloc[:, 5] + 1).hist(bins=100)\n",
        "plt.show()"
      ],
      "execution_count": 105,
      "outputs": [
        {
          "output_type": "display_data",
          "data": {
            "image/png": "[encoded data removed]",
            "text/plain": [
              "<Figure size 432x288 with 1 Axes>"
            ]
          },
          "metadata": {
            "tags": []
          }
        }
      ]
    },
    {
      "cell_type": "code",
      "metadata": {
        "id": "7_I4VhIgsJGp",
        "colab_type": "code",
        "colab": {}
      },
      "source": [
        ""
      ],
      "execution_count": 0,
      "outputs": []
    }
  ]
}