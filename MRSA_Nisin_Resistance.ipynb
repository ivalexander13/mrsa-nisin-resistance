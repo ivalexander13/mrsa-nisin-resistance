{
  "nbformat": 4,
  "nbformat_minor": 0,
  "metadata": {
    "colab": {
      "name": "MRSA Nisin Resistance",
      "provenance": [],
      "collapsed_sections": [
        "tsGiUeEf3rEC",
        "V_YypSxbb65I",
        "Hq3AFBuR9hhM",
        "bCkETGy1Ggtp",
        "qtGPU9oeK36B"
      ],
      "toc_visible": true
    },
    "kernelspec": {
      "name": "python3",
      "display_name": "Python 3"
    }
  },
  "cells": [
    {
      "cell_type": "markdown",
      "metadata": {
        "id": "9-bcoSlHVFgE",
        "colab_type": "text"
      },
      "source": [
        "# **Data 88 Project by Jacob Luo and Ivan A. Kristanto**"
      ]
    },
    {
      "cell_type": "markdown",
      "metadata": {
        "id": "tsGiUeEf3rEC",
        "colab_type": "text"
      },
      "source": [
        "# Setup"
      ]
    },
    {
      "cell_type": "markdown",
      "metadata": {
        "id": "LZiYpW80IzKP",
        "colab_type": "text"
      },
      "source": [
        "## Introduction\n",
        "\n",
        "**Paper:** Acquired Nisin Resistance in Staphylococcus aureus Involves Constitutive Activation of an Intrinsic Peptide Antibiotic Detoxification Module ([paper](https://www.ncbi.nlm.nih.gov/pmc/articles/PMC6291627), [data](https://www.ncbi.nlm.nih.gov/geo/query/acc.cgi?acc=GSE114706)).\n",
        "\n",
        "The goal of this project is to analyse RNASeq data in order to identify differentially expressed genes between wild type and Nisin-resistant strains of *Staphylococcus aureus*.\n",
        "\n",
        "## Background\n",
        "\n",
        "Nisin is a broad-spectrum antibiotic effective against many Gram Positive bacteria. It kills susceptible microbes by creating pores on bacterial membranes and preventing cell wall synthesis. \n",
        "\n",
        "In this study, Nisin resistance in *S. aureus* was triggered by mutating the *nsaS* gene, which codes for a set of proteins called NsaRS. NsaRS is a two-component regulatory system that detects the presence of nisin and subsequently triggers changes in transcription that will be reflected by our analyses of the transcriptome."
      ]
    },
    {
      "cell_type": "code",
      "metadata": {
        "id": "h0iuFCsX3sRp",
        "colab_type": "code",
        "colab": {}
      },
      "source": [
        "import numpy as np\n",
        "import matplotlib\n",
        "%matplotlib inline\n",
        "import matplotlib.pyplot as plt\n",
        "import scipy.stats as stats\n",
        "plt.style.use('fivethirtyeight')\n",
        "import pandas as pd\n",
        "import seaborn as sns\n",
        "import sklearn\n",
        "from sklearn import preprocessing\n",
        "from sklearn.preprocessing import StandardScaler\n",
        "from sklearn.decomposition import PCA\n",
        "from sklearn.preprocessing import scale\n",
        "from sklearn.manifold import TSNE\n",
        "from sklearn.cluster import KMeans\n",
        "from scipy.spatial.distance import cdist\n",
        "import random\n",
        "import scipy.stats as stats\n",
        "import statsmodels.api as sm"
      ],
      "execution_count": 0,
      "outputs": []
    },
    {
      "cell_type": "markdown",
      "metadata": {
        "id": "JbnG7oabThoa",
        "colab_type": "text"
      },
      "source": [
        "## Data Cleanup\n",
        "There are five samples in total, with two (samples 1 and 2) being wild-type strains and three (samples 3, 4, and 5). Each sample has 4 columns: features, expression value, unique reads, and total reads. For our analyses, we will only use the last column."
      ]
    },
    {
      "cell_type": "code",
      "metadata": {
        "id": "u8ptKynn3wVt",
        "colab_type": "code",
        "colab": {}
      },
      "source": [
        "raw1 = pd.read_csv(\"https://raw.githubusercontent.com/ivalexander13/mrsa-nisin-resistance/master/samples_raw/GSM3147945_WT1_S7.txt\", delimiter = \"\\t\")\n",
        "raw2 = pd.read_csv(\"https://raw.githubusercontent.com/ivalexander13/mrsa-nisin-resistance/master/samples_raw/GSM3147946_WT3_S9.txt\", delimiter = \"\\t\")\n",
        "raw3 = pd.read_csv(\"https://raw.githubusercontent.com/ivalexander13/mrsa-nisin-resistance/master/samples_raw/GSM3147947_SM1_S4.txt\", delimiter = \"\\t\")\n",
        "raw4 = pd.read_csv(\"https://raw.githubusercontent.com/ivalexander13/mrsa-nisin-resistance/master/samples_raw/GSM3147948_SM2_S5.txt\", delimiter = \"\\t\")\n",
        "raw5 = pd.read_csv(\"https://raw.githubusercontent.com/ivalexander13/mrsa-nisin-resistance/master/samples_raw/GSM3147949_SM3_S6.txt\", delimiter = \"\\t\")\n",
        "\n",
        "\n",
        "# function for data preprocessing \n",
        "\n",
        "def preproc(*dfs):\n",
        "  list_df = []\n",
        "  for df in dfs:\n",
        "    df.drop(df.columns[[1, 2]], axis=1, inplace=True)\n",
        "    df = df.rename({df.columns[0]: \"feature\", df.columns[1]: \"reads_\" + str(len(list_df) + 1)}, axis='columns')\n",
        "    list_df.append(df)\n",
        "  return list_df\n",
        "\n",
        "raw1, raw2, raw3, raw4, raw5 = preproc(raw1, raw2, raw3, raw4, raw5)\n",
        "\n",
        "\n",
        "# combine the five samples into one dataframe\n",
        "\n",
        "raws = pd.merge(raw1, raw2, on='feature')\n",
        "raws = pd.merge(raws, raw3, on='feature')\n",
        "raws = pd.merge(raws, raw4, on='feature')\n",
        "raws = pd.merge(raws, raw5, on='feature')\n"
      ],
      "execution_count": 0,
      "outputs": []
    },
    {
      "cell_type": "code",
      "metadata": {
        "id": "ZPIC8rRsnN4f",
        "colab_type": "code",
        "outputId": "209325ab-945b-4d86-c964-4d6fa9d11bcb",
        "colab": {
          "base_uri": "https://localhost:8080/",
          "height": 431
        }
      },
      "source": [
        "raws"
      ],
      "execution_count": 6,
      "outputs": [
        {
          "output_type": "execute_result",
          "data": {
            "text/html": [
              "<div>\n",
              "<style scoped>\n",
              "    .dataframe tbody tr th:only-of-type {\n",
              "        vertical-align: middle;\n",
              "    }\n",
              "\n",
              "    .dataframe tbody tr th {\n",
              "        vertical-align: top;\n",
              "    }\n",
              "\n",
              "    .dataframe thead th {\n",
              "        text-align: right;\n",
              "    }\n",
              "</style>\n",
              "<table border=\"1\" class=\"dataframe\">\n",
              "  <thead>\n",
              "    <tr style=\"text-align: right;\">\n",
              "      <th></th>\n",
              "      <th>feature</th>\n",
              "      <th>reads_1</th>\n",
              "      <th>reads_2</th>\n",
              "      <th>reads_3</th>\n",
              "      <th>reads_4</th>\n",
              "      <th>reads_5</th>\n",
              "    </tr>\n",
              "  </thead>\n",
              "  <tbody>\n",
              "    <tr>\n",
              "      <th>0</th>\n",
              "      <td>SAOUHSC_01037</td>\n",
              "      <td>10</td>\n",
              "      <td>180</td>\n",
              "      <td>6</td>\n",
              "      <td>10</td>\n",
              "      <td>4</td>\n",
              "    </tr>\n",
              "    <tr>\n",
              "      <th>1</th>\n",
              "      <td>SAOUHSC_00303</td>\n",
              "      <td>4</td>\n",
              "      <td>3</td>\n",
              "      <td>1</td>\n",
              "      <td>1</td>\n",
              "      <td>0</td>\n",
              "    </tr>\n",
              "    <tr>\n",
              "      <th>2</th>\n",
              "      <td>SAOUHSC_00978</td>\n",
              "      <td>94</td>\n",
              "      <td>257</td>\n",
              "      <td>24</td>\n",
              "      <td>62</td>\n",
              "      <td>23</td>\n",
              "    </tr>\n",
              "    <tr>\n",
              "      <th>3</th>\n",
              "      <td>SAOUHSC_02313</td>\n",
              "      <td>3</td>\n",
              "      <td>6</td>\n",
              "      <td>1</td>\n",
              "      <td>1</td>\n",
              "      <td>1</td>\n",
              "    </tr>\n",
              "    <tr>\n",
              "      <th>4</th>\n",
              "      <td>SAOUHSC_02518</td>\n",
              "      <td>6</td>\n",
              "      <td>9</td>\n",
              "      <td>0</td>\n",
              "      <td>4</td>\n",
              "      <td>1</td>\n",
              "    </tr>\n",
              "    <tr>\n",
              "      <th>...</th>\n",
              "      <td>...</td>\n",
              "      <td>...</td>\n",
              "      <td>...</td>\n",
              "      <td>...</td>\n",
              "      <td>...</td>\n",
              "      <td>...</td>\n",
              "    </tr>\n",
              "    <tr>\n",
              "      <th>2867</th>\n",
              "      <td>SAOUHSC_02939</td>\n",
              "      <td>0</td>\n",
              "      <td>0</td>\n",
              "      <td>1</td>\n",
              "      <td>1</td>\n",
              "      <td>0</td>\n",
              "    </tr>\n",
              "    <tr>\n",
              "      <th>2868</th>\n",
              "      <td>SAOUHSC_02948</td>\n",
              "      <td>0</td>\n",
              "      <td>5</td>\n",
              "      <td>0</td>\n",
              "      <td>0</td>\n",
              "      <td>0</td>\n",
              "    </tr>\n",
              "    <tr>\n",
              "      <th>2869</th>\n",
              "      <td>SAOUHSC_02950</td>\n",
              "      <td>1</td>\n",
              "      <td>1</td>\n",
              "      <td>0</td>\n",
              "      <td>0</td>\n",
              "      <td>0</td>\n",
              "    </tr>\n",
              "    <tr>\n",
              "      <th>2870</th>\n",
              "      <td>SAOUHSC_A01436</td>\n",
              "      <td>0</td>\n",
              "      <td>0</td>\n",
              "      <td>0</td>\n",
              "      <td>1</td>\n",
              "      <td>0</td>\n",
              "    </tr>\n",
              "    <tr>\n",
              "      <th>2871</th>\n",
              "      <td>SAOUHSC_A02169</td>\n",
              "      <td>0</td>\n",
              "      <td>0</td>\n",
              "      <td>1</td>\n",
              "      <td>0</td>\n",
              "      <td>0</td>\n",
              "    </tr>\n",
              "  </tbody>\n",
              "</table>\n",
              "<p>2872 rows × 6 columns</p>\n",
              "</div>"
            ],
            "text/plain": [
              "             feature  reads_1  reads_2  reads_3  reads_4  reads_5\n",
              "0      SAOUHSC_01037       10      180        6       10        4\n",
              "1      SAOUHSC_00303        4        3        1        1        0\n",
              "2      SAOUHSC_00978       94      257       24       62       23\n",
              "3      SAOUHSC_02313        3        6        1        1        1\n",
              "4      SAOUHSC_02518        6        9        0        4        1\n",
              "...              ...      ...      ...      ...      ...      ...\n",
              "2867   SAOUHSC_02939        0        0        1        1        0\n",
              "2868   SAOUHSC_02948        0        5        0        0        0\n",
              "2869   SAOUHSC_02950        1        1        0        0        0\n",
              "2870  SAOUHSC_A01436        0        0        0        1        0\n",
              "2871  SAOUHSC_A02169        0        0        1        0        0\n",
              "\n",
              "[2872 rows x 6 columns]"
            ]
          },
          "metadata": {
            "tags": []
          },
          "execution_count": 6
        }
      ]
    },
    {
      "cell_type": "markdown",
      "metadata": {
        "id": "V_YypSxbb65I",
        "colab_type": "text"
      },
      "source": [
        "# Exploratory Data Analysis\n",
        "\n",
        "A histogram of the raw values show a significant majority of features not being expressed. A histogram of the log of the raw values tell a different story."
      ]
    },
    {
      "cell_type": "code",
      "metadata": {
        "id": "G-W-Z_TRVapx",
        "colab_type": "code",
        "outputId": "24526d3e-c4cd-4615-d90c-7c31a0d5f29c",
        "colab": {
          "base_uri": "https://localhost:8080/",
          "height": 303
        }
      },
      "source": [
        "histrange = [0, 10000]\n",
        "raws.iloc[:, 1].hist(bins=100, range=histrange)\n",
        "raws.iloc[:, 2].hist(bins=100, range=histrange)\n",
        "raws.iloc[:, 3].hist(bins=100, range=histrange)\n",
        "raws.iloc[:, 4].hist(bins=100, range=histrange)\n",
        "raws.iloc[:, 5].hist(bins=100, range=histrange)\n",
        "plt.title('Raw Counts')\n",
        "plt.show()"
      ],
      "execution_count": 9,
      "outputs": [
        {
          "output_type": "display_data",
          "data": {
            "image/png": "[encoded data removed]",
            "text/plain": [
              "<Figure size 432x288 with 1 Axes>"
            ]
          },
          "metadata": {
            "tags": []
          }
        }
      ]
    },
    {
      "cell_type": "markdown",
      "metadata": {
        "id": "qotJbYssgXHu",
        "colab_type": "text"
      },
      "source": [
        "**Filter**: We will use the index of dispersion, mean/variance, of each gene and discard the ones with a low value. The raw counts data will be fitered instead of the log counts data. Our threshold for the cutoff is 1."
      ]
    },
    {
      "cell_type": "code",
      "metadata": {
        "id": "KW8i2rX7gUF1",
        "colab_type": "code",
        "outputId": "736d3931-adae-4877-cd05-d9f3659c03dc",
        "colab": {
          "base_uri": "https://localhost:8080/",
          "height": 325
        }
      },
      "source": [
        "index_dispersion_per_gene = np.var(raws, axis=1) / np.mean(raws, axis=1)\n",
        "\n",
        "histrange = [0, 10000]\n",
        "np.log(index_dispersion_per_gene).hist(bins=100, range=None)\n",
        "plt.axvline(x=0, color='red', linewidth=0.5)\n",
        "plt.title('Log distribution of dispersion indices (pre-filtered)')\n",
        "plt.xlabel('Log of Dispersion Index')\n",
        "plt.show()\n",
        "\n",
        "filtered_raw = raws[index_dispersion_per_gene > 1]"
      ],
      "execution_count": 11,
      "outputs": [
        {
          "output_type": "display_data",
          "data": {
            "image/png": "[encoded data removed]",
            "text/plain": [
              "<Figure size 432x288 with 1 Axes>"
            ]
          },
          "metadata": {
            "tags": []
          }
        }
      ]
    },
    {
      "cell_type": "markdown",
      "metadata": {
        "id": "zXwZE8zThVXS",
        "colab_type": "text"
      },
      "source": [
        "**Normalization**: The filtered data is then normalized by median normalization."
      ]
    },
    {
      "cell_type": "code",
      "metadata": {
        "id": "hZsTk8XWo5lr",
        "colab_type": "code",
        "colab": {}
      },
      "source": [
        "design_temp=filtered_raw.iloc[:,1:6]\n",
        "design_norm=(design_temp/np.median(design_temp,axis=0))*np.median(design_temp)\n",
        "design_norm_transform=design_norm.apply(lambda x: np.log(x+1), axis=0)\n",
        "design_norm_centered=design_norm_transform-np.median(design_norm_transform,axis=0)"
      ],
      "execution_count": 0,
      "outputs": []
    },
    {
      "cell_type": "code",
      "metadata": {
        "id": "AlHshsLr8wNs",
        "colab_type": "code",
        "outputId": "f432676b-7c2f-46bf-f145-0e64186ff384",
        "colab": {
          "base_uri": "https://localhost:8080/",
          "height": 282
        }
      },
      "source": [
        "design_norm_centered.iloc[:, 0].hist(bins=100)\n",
        "design_norm_centered.iloc[:, 1].hist(bins=100)\n",
        "design_norm_centered.iloc[:, 2].hist(bins=100)\n",
        "design_norm_centered.iloc[:, 3].hist(bins=100)\n",
        "design_norm_centered.iloc[:, 4].hist(bins=100)\n",
        "plt.show()"
      ],
      "execution_count": 13,
      "outputs": [
        {
          "output_type": "display_data",
          "data": {
            "image/png": "[encoded data removed]",
            "text/plain": [
              "<Figure size 432x288 with 1 Axes>"
            ]
          },
          "metadata": {
            "tags": []
          }
        }
      ]
    },
    {
      "cell_type": "markdown",
      "metadata": {
        "id": "GnZCrK-Mpo5i",
        "colab_type": "text"
      },
      "source": [
        "## **Principal Component Analysis**\n",
        "\n"
      ]
    },
    {
      "cell_type": "code",
      "metadata": {
        "id": "5x_115bbpqNC",
        "colab_type": "code",
        "outputId": "84cb4368-35cd-4583-b09b-5f49289f674c",
        "colab": {
          "base_uri": "https://localhost:8080/",
          "height": 349
        }
      },
      "source": [
        "u, s, vt = np.linalg.svd(design_norm_centered.T.iloc[:,:], full_matrices = False) \n",
        "PCS=pd.DataFrame(u*s)\n",
        "plt.scatter(PCS.iloc[0:2,0],PCS.iloc[0:2,1])\n",
        "plt.scatter(PCS.iloc[2:5,0],PCS.iloc[2:5,1])\n",
        "plt.xticks(rotation=90)\n",
        "plt.legend(['Wild Type', 'Mutants'])\n",
        "plt.xlabel(\"PC1\")\n",
        "plt.ylabel(\"PC2\")\n",
        "plt.title('Principal Component Analysis')\n",
        "plt.show();"
      ],
      "execution_count": 17,
      "outputs": [
        {
          "output_type": "display_data",
          "data": {
            "image/png": "[encoded data removed]",
            "text/plain": [
              "<Figure size 432x288 with 1 Axes>"
            ]
          },
          "metadata": {
            "tags": []
          }
        }
      ]
    },
    {
      "cell_type": "markdown",
      "metadata": {
        "id": "VGWV469YpyTO",
        "colab_type": "text"
      },
      "source": [
        "Top two points are control group, bottom 3 are treatment groups. PC2 is negative for treatment groups, and positive for control groups. Clustering seems to occur only along pc2, meaning that most of the captured variance comes from genes that are differentially expressed without regard to the treatment vs control conditions. \n"
      ]
    },
    {
      "cell_type": "markdown",
      "metadata": {
        "id": "6CL8yg_anAQA",
        "colab_type": "text"
      },
      "source": [
        "## **EDA on Mean Gene Expression**"
      ]
    },
    {
      "cell_type": "code",
      "metadata": {
        "id": "X6_tfmoenPKx",
        "colab_type": "code",
        "outputId": "e951ddb0-8aa3-4685-c698-9c0541286354",
        "colab": {
          "base_uri": "https://localhost:8080/",
          "height": 325
        }
      },
      "source": [
        "means_control=np.mean(design_norm_centered.iloc[:,:2],axis=1)\n",
        "means_treatment=np.mean(design_norm_centered.iloc[:,2:5],axis=1)\n",
        "plt.scatter(means_control,means_treatment)\n",
        "plt.xlabel(\"mean expression control\")\n",
        "plt.ylabel(\"mean expression treatment\")\n",
        "plt.title('Mean Counts per Gene in each Group')\n",
        "plt.show();"
      ],
      "execution_count": 23,
      "outputs": [
        {
          "output_type": "display_data",
          "data": {
            "image/png": "[encoded data removed]",
            "text/plain": [
              "<Figure size 432x288 with 1 Axes>"
            ]
          },
          "metadata": {
            "tags": []
          }
        }
      ]
    },
    {
      "cell_type": "markdown",
      "metadata": {
        "id": "dPi8FgbLRIRG",
        "colab_type": "text"
      },
      "source": [
        "Extract the outliers using mean squared error, with a threshold of 4."
      ]
    },
    {
      "cell_type": "code",
      "metadata": {
        "id": "JXAb6-ywm_4J",
        "colab_type": "code",
        "outputId": "2fe84291-0451-4191-b599-45cafb29d6cc",
        "colab": {
          "base_uri": "https://localhost:8080/",
          "height": 193
        }
      },
      "source": [
        "labels=filtered_raw[\"feature\"].to_list()\n",
        "df_mean_expr=pd.DataFrame({\"gene\":labels,\"control means\":means_control,\"treatment means\":means_treatment})\n",
        "df_mean_expr[\"mse\"]=(df_mean_expr[\"treatment means\"]-df_mean_expr[\"control means\"])**2\n",
        "df_diffexpr=df_mean_expr[df_mean_expr[\"mse\"]>4]\n",
        "df_diffexpr[\"gene\"]"
      ],
      "execution_count": 24,
      "outputs": [
        {
          "output_type": "execute_result",
          "data": {
            "text/plain": [
              "2840     SAOUHSC_02954\n",
              "2841     SAOUHSC_03041\n",
              "2842     SAOUHSC_3042a\n",
              "2843     SAOUHSC_00355\n",
              "2844     SAOUHSC_03040\n",
              "2845     SAOUHSC_03042\n",
              "2846     SAOUHSC_03037\n",
              "2847     SAOUHSC_03036\n",
              "2848    SAOUHSC_03037a\n",
              "Name: gene, dtype: object"
            ]
          },
          "metadata": {
            "tags": []
          },
          "execution_count": 24
        }
      ]
    },
    {
      "cell_type": "markdown",
      "metadata": {
        "id": "pIRUPsqjRcaI",
        "colab_type": "text"
      },
      "source": [
        "Write a function that takes two arrays as input and performs a permutation test for the difference of medians."
      ]
    },
    {
      "cell_type": "code",
      "metadata": {
        "id": "enHBmtAsnHiu",
        "colab_type": "code",
        "colab": {}
      },
      "source": [
        "def medians_permutation_test(array_1, array_2, num_perm = 1000, test_type = 'two-sided'):\n",
        "    true_diff = np.median(array_1) - np.median(array_2)\n",
        "    null_diffs = make_array()\n",
        "    merged_array = np.append(array_1, array_2)\n",
        "    for i in np.arange(num_perm):\n",
        "        shuffled_array = random.sample(list(merged_array), k = len(merged_array))\n",
        "        group_1 = shuffled_array[:len(array_1)]\n",
        "        group_2 = shuffled_array[len(array_1):]\n",
        "        diff_medians = np.median(group_1) - np.median(group_2)\n",
        "        null_diffs = np.append(null_diffs, diff_medians)\n",
        "    if test_type == 'two-sided':\n",
        "            p_val = np.sum(np.abs(null_diffs) >= np.abs(true_diff))/num_perm\n",
        "    elif test_type == 'greater':\n",
        "            p_val = np.sum(null_diffs >= true_diff)/num_perm\n",
        "    elif test_type == 'less':\n",
        "            p_val = np.sum(null_diffs <= true_diff)/num_perm\n",
        "    else:\n",
        "        return \"test_type improperly specified; choices are 'two-sided', 'greater', 'less'\"\n",
        "        \n",
        "    return [p_val, null_diffs, true_diff]"
      ],
      "execution_count": 0,
      "outputs": []
    },
    {
      "cell_type": "markdown",
      "metadata": {
        "id": "Hq3AFBuR9hhM",
        "colab_type": "text"
      },
      "source": [
        "# Permutation Testing\n"
      ]
    },
    {
      "cell_type": "markdown",
      "metadata": {
        "id": "mxI5voZBRrvs",
        "colab_type": "text"
      },
      "source": [
        "Do a permutation test on the mean counts by shuffling the sample labels."
      ]
    },
    {
      "cell_type": "code",
      "metadata": {
        "id": "eLOqC0fR9mal",
        "colab_type": "code",
        "colab": {}
      },
      "source": [
        "def means_permutation_test(array_1, array_2, num_perm = 500, test_type = 'two-sided'):\n",
        "    true_diff = np.mean(array_1) - np.mean(array_2)\n",
        "    null_diffs = np.array([])\n",
        "    merged_array = np.append(array_1, array_2)\n",
        "    for i in np.arange(num_perm):\n",
        "        shuffled_array = random.sample(list(merged_array), k = len(merged_array))\n",
        "        group_1 = shuffled_array[:len(array_1)]\n",
        "        group_2 = shuffled_array[len(array_1):]\n",
        "        diff_means = np.mean(group_1) - np.mean(group_2)\n",
        "        null_diffs = np.append(null_diffs, diff_means)\n",
        "    if test_type == 'two-sided':\n",
        "            p_val = np.sum(np.abs(null_diffs) >= np.abs(true_diff))/num_perm\n",
        "    elif test_type == 'greater':\n",
        "            p_val = np.sum(null_diffs >= true_diff)/num_perm\n",
        "    elif test_type == 'less':\n",
        "            p_val = np.sum(null_diffs <= true_diff)/num_perm\n",
        "    else:\n",
        "        return \"test_type improperly specified; choices are 'two-sided', 'greater', 'less'\"\n",
        "        \n",
        "    return [p_val, null_diffs, true_diff]"
      ],
      "execution_count": 0,
      "outputs": []
    },
    {
      "cell_type": "code",
      "metadata": {
        "id": "jQlhKUpL9qWn",
        "colab_type": "code",
        "colab": {}
      },
      "source": [
        "p_vals=[]\n",
        "for i in range(filtered_raw.shape[0]):\n",
        "    array_1 = np.array(filtered_raw.iloc[i,1:3])\n",
        "    array_2 = np.array(filtered_raw.iloc[i,3:6])\n",
        "    normal_perm = means_permutation_test(array_1, array_2,test_type=\"two-sided\")\n",
        "    p_vals.append(normal_perm[0])"
      ],
      "execution_count": 0,
      "outputs": []
    },
    {
      "cell_type": "code",
      "metadata": {
        "id": "vkk4AqzP9rn9",
        "colab_type": "code",
        "outputId": "1ac868fb-98e6-46ab-db6e-32910b8213c2",
        "colab": {
          "base_uri": "https://localhost:8080/",
          "height": 228
        }
      },
      "source": [
        "#genes with p-value of 0 between control/treatment groups\n",
        "df_gene_pvals=pd.DataFrame({\"pvals\":p_vals,\"gene\":filtered_raw[\"feature\"]})\n",
        "tested_diff_genes=df_gene_pvals[df_gene_pvals[\"pvals\"]==0][\"gene\"]\n",
        "\n",
        "tested_diff_genes"
      ],
      "execution_count": 28,
      "outputs": [
        {
          "output_type": "execute_result",
          "data": {
            "text/plain": [
              "0        SAOUHSC_01037\n",
              "1        SAOUHSC_00303\n",
              "4        SAOUHSC_02518\n",
              "5       SAOUHSC_A02577\n",
              "7        SAOUHSC_02705\n",
              "             ...      \n",
              "2798     SAOUHSC_01197\n",
              "2813     SAOUHSC_00872\n",
              "2839     SAOUHSC_02953\n",
              "2843     SAOUHSC_00355\n",
              "2845     SAOUHSC_03042\n",
              "Name: gene, Length: 190, dtype: object"
            ]
          },
          "metadata": {
            "tags": []
          },
          "execution_count": 28
        }
      ]
    },
    {
      "cell_type": "markdown",
      "metadata": {
        "id": "gqLPB_OvGmad",
        "colab_type": "text"
      },
      "source": [
        "We identified 190 genes with a p-value of zero, when running a permutation test on our filtered, raw data with our test statistic as the mean of the two groups (control and treatment). Interestingly, every single p-value exceeded .05 when we ran our permutation on the further log transformed, centered, and scaled data. Furhtermore, increasing the number of permutations increased p-values.\n",
        "\n",
        "We chose a mean permutation test due to limited numbers of samples, some with high variance. We were afraid that median permutation tests would fail to capture extremeties, which were crucial in determining differential expression. However, now that I think of it, this concern is not too relevant, as we run many permutations. \n"
      ]
    },
    {
      "cell_type": "markdown",
      "metadata": {
        "id": "bCkETGy1Ggtp",
        "colab_type": "text"
      },
      "source": [
        "# Alternative test: Generate p-vals from MannWhitneyU Test"
      ]
    },
    {
      "cell_type": "markdown",
      "metadata": {
        "id": "ORvaMhJZSC_W",
        "colab_type": "text"
      },
      "source": [
        "Conduct the MannWhitneyU Test on log transformed data to improve test performance."
      ]
    },
    {
      "cell_type": "code",
      "metadata": {
        "id": "IF6cSc2aGhc5",
        "colab_type": "code",
        "colab": {}
      },
      "source": [
        "gene_p_vals = []\n",
        "log_filt_raw=filtered_raw.iloc[:,1:].apply(lambda x: np.log(x+1), axis=0)\n",
        "for i in np.arange(0, log_filt_raw.shape[0]):        \n",
        "    array_1 = np.array(log_filt_raw.iloc[i,1:3])\n",
        "    array_2 = np.array(log_filt_raw.iloc[i,3:6])\n",
        "    p_val = stats.mannwhitneyu(array_1, array_2)[1]\n",
        "    gene_p_vals.append(p_val)"
      ],
      "execution_count": 0,
      "outputs": []
    },
    {
      "cell_type": "code",
      "metadata": {
        "id": "XrPNJAAVIxzu",
        "colab_type": "code",
        "outputId": "cc285c75-8239-4ba9-e691-f6f876e11c3f",
        "colab": {
          "base_uri": "https://localhost:8080/",
          "height": 431
        }
      },
      "source": [
        "df_gene_pvals_mwu=pd.DataFrame({\"pvals\":gene_p_vals,\"gene\":filtered_raw[\"feature\"]})\n",
        "ten_mwu_diffexpr_genes=df_gene_pvals_mwu.sort_values(\"pvals\")[\"gene\"][:200]\n",
        "df_gene_pvals_mwu.sort_values(\"pvals\")"
      ],
      "execution_count": 30,
      "outputs": [
        {
          "output_type": "execute_result",
          "data": {
            "text/html": [
              "<div>\n",
              "<style scoped>\n",
              "    .dataframe tbody tr th:only-of-type {\n",
              "        vertical-align: middle;\n",
              "    }\n",
              "\n",
              "    .dataframe tbody tr th {\n",
              "        vertical-align: top;\n",
              "    }\n",
              "\n",
              "    .dataframe thead th {\n",
              "        text-align: right;\n",
              "    }\n",
              "</style>\n",
              "<table border=\"1\" class=\"dataframe\">\n",
              "  <thead>\n",
              "    <tr style=\"text-align: right;\">\n",
              "      <th></th>\n",
              "      <th>pvals</th>\n",
              "      <th>gene</th>\n",
              "    </tr>\n",
              "  </thead>\n",
              "  <tbody>\n",
              "    <tr>\n",
              "      <th>1022</th>\n",
              "      <td>0.110336</td>\n",
              "      <td>SAOUHSC_02002</td>\n",
              "    </tr>\n",
              "    <tr>\n",
              "      <th>126</th>\n",
              "      <td>0.110336</td>\n",
              "      <td>SAOUHSC_00915</td>\n",
              "    </tr>\n",
              "    <tr>\n",
              "      <th>2808</th>\n",
              "      <td>0.110336</td>\n",
              "      <td>SAOUHSC_02805</td>\n",
              "    </tr>\n",
              "    <tr>\n",
              "      <th>722</th>\n",
              "      <td>0.122639</td>\n",
              "      <td>SAOUHSC_02828</td>\n",
              "    </tr>\n",
              "    <tr>\n",
              "      <th>2589</th>\n",
              "      <td>0.122639</td>\n",
              "      <td>groES</td>\n",
              "    </tr>\n",
              "    <tr>\n",
              "      <th>...</th>\n",
              "      <td>...</td>\n",
              "      <td>...</td>\n",
              "    </tr>\n",
              "    <tr>\n",
              "      <th>247</th>\n",
              "      <td>0.500000</td>\n",
              "      <td>SAOUHSC_02800</td>\n",
              "    </tr>\n",
              "    <tr>\n",
              "      <th>1282</th>\n",
              "      <td>0.500000</td>\n",
              "      <td>SAOUHSC_00214</td>\n",
              "    </tr>\n",
              "    <tr>\n",
              "      <th>924</th>\n",
              "      <td>0.500000</td>\n",
              "      <td>SAOUHSC_01638</td>\n",
              "    </tr>\n",
              "    <tr>\n",
              "      <th>1163</th>\n",
              "      <td>0.500000</td>\n",
              "      <td>SAOUHSC_00716</td>\n",
              "    </tr>\n",
              "    <tr>\n",
              "      <th>2805</th>\n",
              "      <td>0.500000</td>\n",
              "      <td>SAOUHSC_00174</td>\n",
              "    </tr>\n",
              "  </tbody>\n",
              "</table>\n",
              "<p>2558 rows × 2 columns</p>\n",
              "</div>"
            ],
            "text/plain": [
              "         pvals           gene\n",
              "1022  0.110336  SAOUHSC_02002\n",
              "126   0.110336  SAOUHSC_00915\n",
              "2808  0.110336  SAOUHSC_02805\n",
              "722   0.122639  SAOUHSC_02828\n",
              "2589  0.122639          groES\n",
              "...        ...            ...\n",
              "247   0.500000  SAOUHSC_02800\n",
              "1282  0.500000  SAOUHSC_00214\n",
              "924   0.500000  SAOUHSC_01638\n",
              "1163  0.500000  SAOUHSC_00716\n",
              "2805  0.500000  SAOUHSC_00174\n",
              "\n",
              "[2558 rows x 2 columns]"
            ]
          },
          "metadata": {
            "tags": []
          },
          "execution_count": 30
        }
      ]
    },
    {
      "cell_type": "code",
      "metadata": {
        "id": "RAxcCO3NI3g8",
        "colab_type": "code",
        "outputId": "28cd6cfd-6f07-46c2-9312-3d1bb17f81d7",
        "colab": {
          "base_uri": "https://localhost:8080/",
          "height": 34
        }
      },
      "source": [
        "#diff expr genes in both mwu and permutation test of means\n",
        "len(ten_mwu_diffexpr_genes[ten_mwu_diffexpr_genes.isin(tested_diff_genes)])"
      ],
      "execution_count": 31,
      "outputs": [
        {
          "output_type": "execute_result",
          "data": {
            "text/plain": [
              "30"
            ]
          },
          "metadata": {
            "tags": []
          },
          "execution_count": 31
        }
      ]
    },
    {
      "cell_type": "markdown",
      "metadata": {
        "id": "9HQLT8NCJlDV",
        "colab_type": "text"
      },
      "source": [
        "Given the lower 200 p-valued genes from the MWU test, 30/200 of them appeared among the 190 genes identified in our permutation test."
      ]
    },
    {
      "cell_type": "markdown",
      "metadata": {
        "id": "qtGPU9oeK36B",
        "colab_type": "text"
      },
      "source": [
        "#**Gene Ontology Attempt and Conclusion**\n"
      ]
    },
    {
      "cell_type": "markdown",
      "metadata": {
        "id": "eICOypeKK-fc",
        "colab_type": "text"
      },
      "source": [
        "We first inputted the features into *GeneOntology.org*, but the genes from the MWU test did not yield any statistically significant cellular functions, while the genes from the permutation test did. However, none of the traits from the database were specific, such as \"intracellular metabolism\" and such. As such, we resorted to looking for individual functions of genes that may be shared across many of our differentially expressed genes. We do recognize that this method is far from perfect, as we have no idea if these gene functions are unique to differentially expressed genes. \n",
        "\n",
        "For these reasons, we pulled data from *AureoWiki*, a repository of staph aureus research. We joined our gene \"locus tags\" with information on gene location and function, which is shown below."
      ]
    },
    {
      "cell_type": "code",
      "metadata": {
        "id": "gov9s-52J3J6",
        "colab_type": "code",
        "colab": {}
      },
      "source": [
        "locus_tag_to_pan_id = pd.read_excel('https://github.com/ivalexander13/mrsa-nisin-resistance/blob/master/OrthologueTable.xlsx?raw=true')\n",
        "gene_info = pd.read_excel('https://github.com/ivalexander13/mrsa-nisin-resistance/blob/master/GeneSpecificInformation_COL.xlsx?raw=true')\n",
        "\n",
        "complete_gene_info = locus_tag_to_pan_id.merge(gene_info, left_on=\"pan ID\", right_on=\"pan locus tag\").drop(columns=['locus tag', 'new locus tag', 'organism', 'pan ID'])"
      ],
      "execution_count": 0,
      "outputs": []
    },
    {
      "cell_type": "code",
      "metadata": {
        "id": "ODaywyuUJ-SX",
        "colab_type": "code",
        "outputId": "a54a3dfc-d36a-4906-a1a4-3232fa81d84b",
        "colab": {
          "base_uri": "https://localhost:8080/",
          "height": 386
        }
      },
      "source": [
        "top_genes_info = pd.DataFrame(tested_diff_genes).merge(complete_gene_info, how='inner', left_on='gene', right_on='NCTC8325')\n",
        "print('The gene products')\n",
        "print()\n",
        "print(top_genes_info['product'].value_counts()[counts_genes>1])\n",
        "print()\n",
        "print()\n",
        "print('The location of action associated with the gene products')\n",
        "print()\n",
        "print(top_genes_info['LocateP'].value_counts())"
      ],
      "execution_count": 39,
      "outputs": [
        {
          "output_type": "stream",
          "text": [
            "The gene products\n",
            "\n",
            "hypothetical protein                83\n",
            "HAD superfamily hydrolase            3\n",
            "acetyltransferase                    3\n",
            "lipoprotein                          2\n",
            "maltose ABC transporter permease     2\n",
            "MutT/nudix family protein            2\n",
            "Name: product, dtype: int64\n",
            "\n",
            "\n",
            "The location of action associated with the gene products\n",
            "\n",
            "Intracellular                      87\n",
            "Multi-transmembrane                61\n",
            "N-terminally anchored (No CS)      11\n",
            "Lipid anchored                      7\n",
            "LPxTG Cell-wall anchored            3\n",
            "Secretory(released) (with CS)       1\n",
            "C-terminally anchored (with CS)     1\n",
            "Name: LocateP, dtype: int64\n"
          ],
          "name": "stdout"
        }
      ]
    },
    {
      "cell_type": "markdown",
      "metadata": {
        "id": "o0ZfymUYMEex",
        "colab_type": "text"
      },
      "source": [
        "## Conclusion\n",
        "\n",
        "In conclusion, we determined that 190 genes were notably differentially expressed in *Staph. Aureus*, mutagenized so that a mutant master control gene affected other antibiotic-resistance inducing genes. The function of these genes seem to be poorly researched, many of which coding for \"hypothetical proteins\" inferred from similar genetic codes in other species. However, we noticed that a few of these proteins were hydrolases of the HAD superfamily, acetyltransferases, maltose ABC transporter permeases, and lipoproteins. Most of these proteins were intracellular, a few were transmembrane, and 3 were notably cell-wall anchored, indicating that antibiotic resistance is conferred by a combination of many biological factors. \n",
        "\n",
        "\n",
        "\n",
        "During our testing, we noticed that when running statistical tests on log transformed data, we found much higher p-values, which is actually a good thing in our case because we got too many p-values of zero. For this reason, we went back and ran the MWU test on the log-transformed, filtered dataset. Our data was still inconclusive, but at the very least we obtained nonzero p-values."
      ]
    }
  ]
}