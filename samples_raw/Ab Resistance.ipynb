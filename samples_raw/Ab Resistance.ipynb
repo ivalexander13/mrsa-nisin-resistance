{
 "cells": [
  {
   "cell_type": "markdown",
   "metadata": {},
   "source": [
    "# Our Project Thingy on Antibiotic Resistance\n"
   ]
  },
  {
   "cell_type": "code",
   "execution_count": 1,
   "metadata": {},
   "outputs": [],
   "source": [
    "import numpy as np\n",
    "import matplotlib\n",
    "%matplotlib inline\n",
    "import matplotlib.pyplot as plt\n",
    "import scipy.stats as stats\n",
    "plt.style.use('fivethirtyeight')\n",
    "import pandas as pd\n",
    "import seaborn as sns\n",
    "import sklearn\n",
    "from sklearn import preprocessing\n",
    "from sklearn.preprocessing import StandardScaler\n",
    "from sklearn.decomposition import PCA\n",
    "from sklearn.preprocessing import scale\n",
    "from sklearn.manifold import TSNE\n",
    "from sklearn.cluster import KMeans\n",
    "from scipy.spatial.distance import cdist"
   ]
  },
  {
   "cell_type": "code",
   "execution_count": 2,
   "metadata": {},
   "outputs": [],
   "source": [
    "sample1 = pd.read_csv('GSM3147945_WT1_S7.txt', delimiter = '\\t')"
   ]
  },
  {
   "cell_type": "code",
   "execution_count": 3,
   "metadata": {
    "scrolled": false
   },
   "outputs": [
    {
     "data": {
      "text/html": [
       "<div>\n",
       "<style scoped>\n",
       "    .dataframe tbody tr th:only-of-type {\n",
       "        vertical-align: middle;\n",
       "    }\n",
       "\n",
       "    .dataframe tbody tr th {\n",
       "        vertical-align: top;\n",
       "    }\n",
       "\n",
       "    .dataframe thead th {\n",
       "        text-align: right;\n",
       "    }\n",
       "</style>\n",
       "<table border=\"1\" class=\"dataframe\">\n",
       "  <thead>\n",
       "    <tr style=\"text-align: right;\">\n",
       "      <th></th>\n",
       "      <th>Feature ID</th>\n",
       "      <th>Wild-type - WT1_S7 (GE) - Expression values</th>\n",
       "      <th>Wild-type - WT1_S7 (GE) - Unique gene reads</th>\n",
       "      <th>Wild-type - WT1_S7 (GE) - Total gene reads</th>\n",
       "    </tr>\n",
       "  </thead>\n",
       "  <tbody>\n",
       "    <tr>\n",
       "      <th>4</th>\n",
       "      <td>SAOUHSC_02518</td>\n",
       "      <td>6</td>\n",
       "      <td>6</td>\n",
       "      <td>6</td>\n",
       "    </tr>\n",
       "    <tr>\n",
       "      <th>5</th>\n",
       "      <td>SAOUHSC_A02577</td>\n",
       "      <td>2</td>\n",
       "      <td>2</td>\n",
       "      <td>2</td>\n",
       "    </tr>\n",
       "    <tr>\n",
       "      <th>6</th>\n",
       "      <td>SAOUHSC_01295</td>\n",
       "      <td>10</td>\n",
       "      <td>10</td>\n",
       "      <td>10</td>\n",
       "    </tr>\n",
       "    <tr>\n",
       "      <th>7</th>\n",
       "      <td>SAOUHSC_02705</td>\n",
       "      <td>3</td>\n",
       "      <td>3</td>\n",
       "      <td>3</td>\n",
       "    </tr>\n",
       "    <tr>\n",
       "      <th>8</th>\n",
       "      <td>SAOUHSC_01290</td>\n",
       "      <td>37</td>\n",
       "      <td>37</td>\n",
       "      <td>37</td>\n",
       "    </tr>\n",
       "    <tr>\n",
       "      <th>...</th>\n",
       "      <td>...</td>\n",
       "      <td>...</td>\n",
       "      <td>...</td>\n",
       "      <td>...</td>\n",
       "    </tr>\n",
       "    <tr>\n",
       "      <th>2867</th>\n",
       "      <td>SAOUHSC_02939</td>\n",
       "      <td>0</td>\n",
       "      <td>0</td>\n",
       "      <td>0</td>\n",
       "    </tr>\n",
       "    <tr>\n",
       "      <th>2868</th>\n",
       "      <td>SAOUHSC_02948</td>\n",
       "      <td>0</td>\n",
       "      <td>0</td>\n",
       "      <td>0</td>\n",
       "    </tr>\n",
       "    <tr>\n",
       "      <th>2869</th>\n",
       "      <td>SAOUHSC_02950</td>\n",
       "      <td>1</td>\n",
       "      <td>1</td>\n",
       "      <td>1</td>\n",
       "    </tr>\n",
       "    <tr>\n",
       "      <th>2870</th>\n",
       "      <td>SAOUHSC_A01436</td>\n",
       "      <td>0</td>\n",
       "      <td>0</td>\n",
       "      <td>0</td>\n",
       "    </tr>\n",
       "    <tr>\n",
       "      <th>2871</th>\n",
       "      <td>SAOUHSC_A02169</td>\n",
       "      <td>0</td>\n",
       "      <td>0</td>\n",
       "      <td>0</td>\n",
       "    </tr>\n",
       "  </tbody>\n",
       "</table>\n",
       "<p>2868 rows × 4 columns</p>\n",
       "</div>"
      ],
      "text/plain": [
       "          Feature ID  Wild-type - WT1_S7 (GE) - Expression values  \\\n",
       "4      SAOUHSC_02518                                            6   \n",
       "5     SAOUHSC_A02577                                            2   \n",
       "6      SAOUHSC_01295                                           10   \n",
       "7      SAOUHSC_02705                                            3   \n",
       "8      SAOUHSC_01290                                           37   \n",
       "...              ...                                          ...   \n",
       "2867   SAOUHSC_02939                                            0   \n",
       "2868   SAOUHSC_02948                                            0   \n",
       "2869   SAOUHSC_02950                                            1   \n",
       "2870  SAOUHSC_A01436                                            0   \n",
       "2871  SAOUHSC_A02169                                            0   \n",
       "\n",
       "      Wild-type - WT1_S7 (GE) - Unique gene reads  \\\n",
       "4                                               6   \n",
       "5                                               2   \n",
       "6                                              10   \n",
       "7                                               3   \n",
       "8                                              37   \n",
       "...                                           ...   \n",
       "2867                                            0   \n",
       "2868                                            0   \n",
       "2869                                            1   \n",
       "2870                                            0   \n",
       "2871                                            0   \n",
       "\n",
       "      Wild-type - WT1_S7 (GE) - Total gene reads  \n",
       "4                                              6  \n",
       "5                                              2  \n",
       "6                                             10  \n",
       "7                                              3  \n",
       "8                                             37  \n",
       "...                                          ...  \n",
       "2867                                           0  \n",
       "2868                                           0  \n",
       "2869                                           1  \n",
       "2870                                           0  \n",
       "2871                                           0  \n",
       "\n",
       "[2868 rows x 4 columns]"
      ]
     },
     "execution_count": 3,
     "metadata": {},
     "output_type": "execute_result"
    }
   ],
   "source": [
    "sample1.drop([0, 1, 2, 3], axis=0)"
   ]
  },
  {
   "cell_type": "markdown",
   "metadata": {},
   "source": [
    "## EDA"
   ]
  },
  {
   "cell_type": "code",
   "execution_count": 6,
   "metadata": {},
   "outputs": [
    {
     "data": {
      "image/png": "[encoded data removed]",
      "text/plain": [
       "<Figure size 432x288 with 1 Axes>"
      ]
     },
     "metadata": {},
     "output_type": "display_data"
    }
   ],
   "source": [
    "plt.hist(np.log2(sample1.iloc[:, 3] + 1), bins = 100);\n"
   ]
  },
  {
   "cell_type": "code",
   "execution_count": 88,
   "metadata": {},
   "outputs": [
    {
     "data": {
      "text/plain": [
       "(0, 165, 165)"
      ]
     },
     "execution_count": 88,
     "metadata": {},
     "output_type": "execute_result"
    }
   ],
   "source": [
    "np.count_nonzero(sample1.iloc[:, 1] != sample1.iloc[:, 3]), \\\n",
    "np.count_nonzero(sample1.iloc[:, 2] != sample1.iloc[:, 3]), \\\n",
    "np.count_nonzero(sample1.iloc[:, 1] != sample1.iloc[:, 2])\n"
   ]
  },
  {
   "cell_type": "markdown",
   "metadata": {},
   "source": [
    "Total Gene Reads (col 3) are equal to Expression Values (col 1), and both are always equal to or greater than Unique Gene Reads (col 2). We will combine col 3 of all five samples."
   ]
  },
  {
   "cell_type": "code",
   "execution_count": null,
   "metadata": {},
   "outputs": [],
   "source": []
  }
 ],
 "metadata": {
  "kernelspec": {
   "display_name": "Python 3",
   "language": "python",
   "name": "python3"
  },
  "language_info": {
   "codemirror_mode": {
    "name": "ipython",
    "version": 3
   },
   "file_extension": ".py",
   "mimetype": "text/x-python",
   "name": "python",
   "nbconvert_exporter": "python",
   "pygments_lexer": "ipython3",
   "version": "3.7.3"
  }
 },
 "nbformat": 4,
 "nbformat_minor": 2
}
